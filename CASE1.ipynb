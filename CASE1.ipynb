{
 "cells": [
  {
   "cell_type": "code",
   "execution_count": 7,
   "metadata": {},
   "outputs": [
    {
     "name": "stdout",
     "output_type": "stream",
     "text": [
      "    isocode  year    rtfpna\n",
      "0       USA  1950  0.617148\n",
      "1       USA  1951  0.629588\n",
      "2       USA  1952  0.638451\n",
      "3       USA  1953  0.651858\n",
      "4       USA  1954  0.646179\n",
      "..      ...   ...       ...\n",
      "181     MEX  2007  1.013673\n",
      "182     MEX  2008  0.991548\n",
      "183     MEX  2009  0.915879\n",
      "184     MEX  2010  0.941604\n",
      "185     MEX  2011  0.955766\n",
      "\n",
      "[186 rows x 3 columns]\n",
      "   isocode  year    rtfpna isocode.1  year.1  rtfpna.1 isocode.2  year.2  \\\n",
      "0      USA  1950  0.617148       CAN    1950  0.843335       MEX    1950   \n",
      "1      USA  1951  0.629588       CAN    1951  0.855123       MEX    1951   \n",
      "2      USA  1952  0.638451       CAN    1952  0.896489       MEX    1952   \n",
      "3      USA  1953  0.651858       CAN    1953  0.910658       MEX    1953   \n",
      "4      USA  1954  0.646179       CAN    1954  0.875178       MEX    1954   \n",
      "..     ...   ...       ...       ...     ...       ...       ...     ...   \n",
      "57     USA  2007  1.006595       CAN    2007  0.981433       MEX    2007   \n",
      "58     USA  2008  0.998499       CAN    2008  0.958357       MEX    2008   \n",
      "59     USA  2009  0.986738       CAN    2009  0.926482       MEX    2009   \n",
      "60     USA  2010  1.009463       CAN    2010  0.932567       MEX    2010   \n",
      "61     USA  2011  1.020392       CAN    2011  0.929405       MEX    2011   \n",
      "\n",
      "    rtfpna.2  \n",
      "0   0.798159  \n",
      "1   0.860931  \n",
      "2   0.876968  \n",
      "3   0.855204  \n",
      "4   0.929168  \n",
      "..       ...  \n",
      "57  1.013673  \n",
      "58  0.991548  \n",
      "59  0.915879  \n",
      "60  0.941604  \n",
      "61  0.955766  \n",
      "\n",
      "[62 rows x 9 columns]\n",
      "   Country  year    rtfpna Country.1  year.1  rtfpna.1 Country.2  year.2  \\\n",
      "0      USA  1950  0.617148       CAN    1950  0.843335       MEX    1950   \n",
      "1      USA  1951  0.629588       CAN    1951  0.855123       MEX    1951   \n",
      "2      USA  1952  0.638451       CAN    1952  0.896489       MEX    1952   \n",
      "3      USA  1953  0.651858       CAN    1953  0.910658       MEX    1953   \n",
      "4      USA  1954  0.646179       CAN    1954  0.875178       MEX    1954   \n",
      "..     ...   ...       ...       ...     ...       ...       ...     ...   \n",
      "57     USA  2007  1.006595       CAN    2007  0.981433       MEX    2007   \n",
      "58     USA  2008  0.998499       CAN    2008  0.958357       MEX    2008   \n",
      "59     USA  2009  0.986738       CAN    2009  0.926482       MEX    2009   \n",
      "60     USA  2010  1.009463       CAN    2010  0.932567       MEX    2010   \n",
      "61     USA  2011  1.020392       CAN    2011  0.929405       MEX    2011   \n",
      "\n",
      "    rtfpna.2  \n",
      "0   0.798159  \n",
      "1   0.860931  \n",
      "2   0.876968  \n",
      "3   0.855204  \n",
      "4   0.929168  \n",
      "..       ...  \n",
      "57  1.013673  \n",
      "58  0.991548  \n",
      "59  0.915879  \n",
      "60  0.941604  \n",
      "61  0.955766  \n",
      "\n",
      "[62 rows x 9 columns]\n"
     ]
    },
    {
     "data": {
      "text/plain": [
       "[<matplotlib.lines.Line2D at 0x1afff7bc040>]"
      ]
     },
     "execution_count": 7,
     "metadata": {},
     "output_type": "execute_result"
    },
    {
     "data": {
      "image/png": "[encoded data removed]",
      "text/plain": [
       "<Figure size 1080x432 with 1 Axes>"
      ]
     },
     "metadata": {
      "needs_background": "light"
     },
     "output_type": "display_data"
    }
   ],
   "source": [
    "import pandas as pd\n",
    "import numpy as np\n",
    "import matplotlib as mpl\n",
    "import matplotlib.pyplot as plt\n",
    "import matplotlib.pylab as plt\n",
    "import os\n",
    "\n",
    "df1 = pd.read_csv(\"./TFP.csv\")\n",
    "df = pd.read_csv(\"./TFP2.csv\")\n",
    "print (df1)\n",
    "print(df)\n",
    "df = df.rename(columns={'isocode': 'Country', 'isocode.1':'Country.1', 'isocode.2':'Country.2'})\n",
    "print(df)\n",
    "x = df['year']\n",
    "y = df['rtfpna']\n",
    "year = np.arange(1950, 2012, 1)\n",
    "#plt.plot([1, 2, 3, 4], [1, 4, 9, 16], 'ro')\n",
    "#plt.axis([x,y])\n",
    "#plt.show()\n",
    "#data = np.genfromtxt(\"./FTPS3.csv\", delimiter=\",\", names=[\"x\", \"y\",\"z\"])\n",
    "plt.suptitle('USA RTFPNA 1950-2011')\n",
    "plt.plot(df['rtfpna'], year)"
   ]
  },
  {
   "cell_type": "code",
   "execution_count": null,
   "metadata": {},
   "outputs": [],
   "source": [
    "plt.suptitle('CAN RTFPNA 1950-2011')\n",
    "plt.plot(df['rtfpna.1'], year, 'bo')\n"
   ]
  },
  {
   "cell_type": "code",
   "execution_count": null,
   "metadata": {},
   "outputs": [],
   "source": [
    "plt.suptitle('MEX RTFPNA 1950-2011')\n",
    "plt.plot(df['rtfpna.2'], year)\n"
   ]
  },
  {
   "cell_type": "code",
   "execution_count": null,
   "metadata": {},
   "outputs": [],
   "source": [
    "plt.plot(year, df['rtfpna'], 'r--', year, df['rtfpna.1'], 'bs', year, df['rtfpna.2'], 'g^')\n",
    "plt.suptitle('RTFPNA USA-CAN-MEX [1950-2011]')\n",
    "plt.show()\n",
    "# the overall RTFPNA shows a dependent behavior between countries."
   ]
  },
  {
   "cell_type": "code",
   "execution_count": 3,
   "metadata": {},
   "outputs": [
    {
     "name": "stdout",
     "output_type": "stream",
     "text": [
      "      year    rtfpna\n",
      "0  1950-01  0.617148\n",
      "1  1951-01  0.629588\n",
      "2  1952-01  0.638451\n",
      "3  1953-01  0.651858\n",
      "4  1954-01  0.646179\n",
      "\n",
      " Data Types:\n",
      "year       object\n",
      "rtfpna    float64\n",
      "dtype: object\n"
     ]
    }
   ],
   "source": [
    "\n",
    "from matplotlib.pylab import rcParams\n",
    "rcParams['figure.figsize'] = 15, 6\n",
    "\n",
    "data = pd.read_csv('./TFP5.csv')\n",
    "print (data.head())\n",
    "print ('\\n Data Types:')\n",
    "print (data.dtypes)\n"
   ]
  },
  {
   "cell_type": "code",
   "execution_count": 4,
   "metadata": {},
   "outputs": [
    {
     "data": {
      "text/plain": [
       "DatetimeIndex(['1950-01-01', '1951-01-01', '1952-01-01', '1953-01-01',\n",
       "               '1954-01-01', '1955-01-01', '1956-01-01', '1957-01-01',\n",
       "               '1958-01-01', '1959-01-01', '1960-01-01', '1961-01-01',\n",
       "               '1962-01-01', '1963-01-01', '1964-01-01', '1965-01-01',\n",
       "               '1966-01-01', '1967-01-01', '1968-01-01', '1969-01-01',\n",
       "               '1970-01-01', '1971-01-01', '1972-01-01', '1973-01-01',\n",
       "               '1974-01-01', '1975-01-01', '1976-01-01', '1977-01-01',\n",
       "               '1978-01-01', '1979-01-01', '1980-01-01', '1981-01-01',\n",
       "               '1982-01-01', '1983-01-01', '1984-01-01', '1985-01-01',\n",
       "               '1986-01-01', '1987-01-01', '1988-01-01', '1989-01-01',\n",
       "               '1990-01-01', '1991-01-01', '1992-01-01', '1993-01-01',\n",
       "               '1994-01-01', '1995-01-01', '1996-01-01', '1997-01-01',\n",
       "               '1998-01-01', '1999-01-01', '2000-01-01', '2001-01-01',\n",
       "               '2002-01-01', '2003-01-01', '2004-01-01', '2005-01-01',\n",
       "               '2006-01-01', '2007-01-01', '2008-01-01', '2009-01-01',\n",
       "               '2010-01-01', '2011-01-01'],\n",
       "              dtype='datetime64[ns]', name='year', freq=None)"
      ]
     },
     "execution_count": 4,
     "metadata": {},
     "output_type": "execute_result"
    }
   ],
   "source": [
    "# need to switch dtype object to datetime\n",
    "\n",
    "from datetime import datetime\n",
    "con=data['year']\n",
    "data['year']=pd.to_datetime(data['year'])\n",
    "data.set_index('year', inplace=True)\n",
    "#check datatype of index\n",
    "data.index"
   ]
  },
  {
   "cell_type": "code",
   "execution_count": 5,
   "metadata": {},
   "outputs": [
    {
     "data": {
      "text/plain": [
       "year\n",
       "1950-01-01    0.617148\n",
       "1951-01-01    0.629588\n",
       "1952-01-01    0.638451\n",
       "1953-01-01    0.651858\n",
       "1954-01-01    0.646179\n",
       "1955-01-01    0.668773\n",
       "1956-01-01    0.661000\n",
       "1957-01-01    0.662165\n",
       "1958-01-01    0.654813\n",
       "1959-01-01    0.680680\n",
       "Name: rtfpna, dtype: float64"
      ]
     },
     "execution_count": 5,
     "metadata": {},
     "output_type": "execute_result"
    }
   ],
   "source": [
    "#convert to time series:\n",
    "ts = data['rtfpna']\n",
    "ts.head(10)"
   ]
  },
  {
   "cell_type": "code",
   "execution_count": null,
   "metadata": {},
   "outputs": [],
   "source": [
    "#checking indexes\n",
    "ts['1968-01-01']"
   ]
  },
  {
   "cell_type": "code",
   "execution_count": null,
   "metadata": {},
   "outputs": [],
   "source": [
    "#checking data\n",
    "print(ts)"
   ]
  },
  {
   "cell_type": "code",
   "execution_count": null,
   "metadata": {},
   "outputs": [],
   "source": [
    "plt.plot(ts)\n",
    "\n",
    "#graph yearxrtfpna 1950-2011 USA"
   ]
  },
  {
   "cell_type": "code",
   "execution_count": null,
   "metadata": {},
   "outputs": [],
   "source": [
    "#analysing data behavior\n",
    "\n",
    "from statsmodels.tsa.stattools import adfuller\n",
    "def test_stationarity(timeseries):\n",
    "    \n",
    "    #Determing rolling statistics\n",
    "    rolmean = pd.Series(timeseries).rolling(window=12).mean()\n",
    "    rolstd = pd.Series(timeseries).rolling(window=12).std()\n",
    "#Plot rolling statistics:\n",
    "    plt.plot(timeseries, color='blue',label='Original')\n",
    "    plt.plot(rolmean, color='red', label='Rolling Mean')\n",
    "    plt.plot(rolstd, color='black', label = 'Rolling Std')\n",
    "    plt.legend(loc='best')\n",
    "    plt.title('Rolling Mean & Standard Deviation')\n",
    "    plt.show()\n",
    "    #Perform Dickey-Fuller test:\n",
    "    print ('Results of Dickey-Fuller Test:')\n",
    "    dftest = adfuller(timeseries, autolag='AIC')\n",
    "    dfoutput = pd.Series(dftest[0:4], index=['Test Statistic','p-value','#Lags Used','Number of Observations Used'])\n",
    "    for key,value in dftest[4].items():\n",
    "        dfoutput['Critical Value (%s)'%key] = value\n",
    "    print (dfoutput)"
   ]
  },
  {
   "cell_type": "code",
   "execution_count": null,
   "metadata": {},
   "outputs": [],
   "source": [
    "test_stationarity(ts)"
   ]
  },
  {
   "cell_type": "code",
   "execution_count": null,
   "metadata": {},
   "outputs": [],
   "source": [
    "#This is not stationary because :\n",
    " #mean is increasing even though the std is small.\n",
    " #Test stat is > critical value.\n",
    " #Note: the signed values are compared and the absolute values.\n",
    "ts_log = np.log(ts)\n",
    "plt.plot(ts_log)"
   ]
  },
  {
   "cell_type": "code",
   "execution_count": null,
   "metadata": {},
   "outputs": [],
   "source": [
    "moving_avg = pd.Series(ts).rolling(window=12).mean()\n",
    "plt.plot(ts_log)\n",
    "plt.plot(moving_avg, color='red')"
   ]
  },
  {
   "cell_type": "code",
   "execution_count": null,
   "metadata": {},
   "outputs": [],
   "source": [
    "ts_log_moving_avg_diff = ts_log - moving_avg\n",
    "ts_log_moving_avg_diff.head(12)"
   ]
  },
  {
   "cell_type": "code",
   "execution_count": null,
   "metadata": {},
   "outputs": [],
   "source": [
    "#NaN values found\n",
    "ts_log_moving_avg_diff.dropna(inplace=True)\n",
    "ts_log_moving_avg_diff.head()"
   ]
  },
  {
   "cell_type": "code",
   "execution_count": null,
   "metadata": {},
   "outputs": [],
   "source": [
    "test_stationarity(ts_log_moving_avg_diff)"
   ]
  },
  {
   "cell_type": "code",
   "execution_count": null,
   "metadata": {},
   "outputs": [],
   "source": [
    "expwighted_avg = ts.ewm(halflife=1).mean()\n"
   ]
  },
  {
   "cell_type": "code",
   "execution_count": null,
   "metadata": {},
   "outputs": [],
   "source": [
    "plt.plot(ts_log)\n",
    "plt.plot(expwighted_avg, color='red')"
   ]
  },
  {
   "cell_type": "code",
   "execution_count": null,
   "metadata": {},
   "outputs": [],
   "source": [
    "ts_log_ewma_diff = ts_log - expwighted_avg\n",
    "test_stationarity(ts_log_ewma_diff)"
   ]
  },
  {
   "cell_type": "code",
   "execution_count": null,
   "metadata": {},
   "outputs": [],
   "source": [
    "ts_log_diff= ts_log - ts_log.shift()\n",
    "plt.plot(ts_log_diff)"
   ]
  },
  {
   "cell_type": "code",
   "execution_count": null,
   "metadata": {},
   "outputs": [],
   "source": [
    "ts_log_diff.dropna(inplace=True)\n",
    "test_stationarity(ts_log_diff)"
   ]
  },
  {
   "cell_type": "code",
   "execution_count": null,
   "metadata": {},
   "outputs": [],
   "source": [
    "from statsmodels.tsa.seasonal import seasonal_decompose\n",
    "decomposition = seasonal_decompose(ts_log)"
   ]
  },
  {
   "cell_type": "code",
   "execution_count": null,
   "metadata": {},
   "outputs": [],
   "source": [
    "trend = decomposition.trend\n",
    "seasonal = decomposition.seasonal\n",
    "residual = decomposition.resid\n",
    "\n",
    "plt.subplot(411)\n",
    "plt.plot(ts_log, label='Original')\n",
    "plt.legend(loc='best')\n",
    "plt.subplot(412)\n",
    "plt.plot(trend, label='Trend')\n",
    "plt.legend(loc='best')\n",
    "plt.subplot(413)\n",
    "plt.plot(seasonal,label='Seasonality')\n",
    "plt.legend(loc='best')\n",
    "plt.subplot(414)\n",
    "plt.plot(residual, label='Residuals')\n",
    "plt.legend(loc='best')\n",
    "plt.tight_layout()\n"
   ]
  },
  {
   "cell_type": "code",
   "execution_count": null,
   "metadata": {},
   "outputs": [],
   "source": [
    "from statsmodels.graphics.tsaplots import plot_acf, plot_pacf\n",
    "plot_acf(ts_log_diff, lags =20)\n",
    "plot_pacf(ts_log_diff, lags =20)\n",
    "\n",
    "plt.show()"
   ]
  },
  {
   "cell_type": "code",
   "execution_count": null,
   "metadata": {},
   "outputs": [],
   "source": [
    "from statsmodels.tsa.arima_model import ARIMA\n",
    "from statsmodels.tsa.arima_model import ARIMA\n",
    "#ACF and PACF plots:\n",
    "from statsmodels.tsa.stattools import acf, pacf  \n",
    "\n",
    "lag_acf = acf(ts_log_diff, nlags=12)\n",
    "lag_pacf = pacf(ts_log_diff, nlags=12, method='ols')\n",
    "\n",
    "#Plot ACF:    \n",
    "plt.subplot(121)    \n",
    "plt.plot(lag_acf)\n",
    "plt.axhline(y=0,linestyle='--',color='gray')\n",
    "plt.axhline(y=-1.96/np.sqrt(len(ts_log_diff)),linestyle='--',color='gray')\n",
    "plt.axhline(y=1.96/np.sqrt(len(ts_log_diff)),linestyle='--',color='gray')\n",
    "plt.title('Autocorrelation Function')\n",
    "\n",
    "#Plot PACF:\n",
    "plt.subplot(122)\n",
    "plt.plot(lag_pacf)\n",
    "plt.axhline(y=0,linestyle='--',color='gray')\n",
    "plt.axhline(y=-1.96/np.sqrt(len(ts_log_diff)),linestyle='--',color='gray')\n",
    "plt.axhline(y=1.96/np.sqrt(len(ts_log_diff)),linestyle='--',color='gray')\n",
    "plt.title('Partial Autocorrelation Function')\n",
    "plt.tight_layout()"
   ]
  },
  {
   "cell_type": "code",
   "execution_count": null,
   "metadata": {},
   "outputs": [],
   "source": [
    "#AR model:\n",
    "model = ARIMA(ts_log, order=(12,2,0))\n",
    "results_AR = model.fit(disp=-1)\n",
    "plt.plot(ts_log_diff)\n",
    "plt.plot(results_AR.fittedvalues, color = 'red')\n",
    "plt.title('AR model') \n"
   ]
  },
  {
   "cell_type": "code",
   "execution_count": null,
   "metadata": {},
   "outputs": [],
   "source": [
    "#MA model:\n",
    "model = ARIMA(ts_log, order=(0,2,2))\n",
    "results_MA = model.fit(disp=-1)\n",
    "plt.plot(ts_log_diff)\n",
    "plt.plot(results_MA.fittedvalues, color = 'red')\n",
    "plt.title('MA model')"
   ]
  },
  {
   "cell_type": "code",
   "execution_count": null,
   "metadata": {},
   "outputs": [],
   "source": [
    "#ARIMA model:\n",
    "model = ARIMA(ts_log, order=(2,2,2))\n",
    "results_ARIMA = model.fit(disp=-1)\n",
    "plt.plot(ts_log_diff)\n",
    "plt.plot(results_ARIMA.fittedvalues, color = 'red')\n",
    "plt.title('ARIMA model')"
   ]
  },
  {
   "cell_type": "code",
   "execution_count": null,
   "metadata": {},
   "outputs": [],
   "source": [
    "predictions_AR_diff = pd.Series(results_AR.fittedvalues)\n",
    "print (predictions_AR_diff.head())"
   ]
  },
  {
   "cell_type": "code",
   "execution_count": null,
   "metadata": {},
   "outputs": [],
   "source": [
    "predictions_AR_diff_cumsum = predictions_AR_diff.cumsum()\n",
    "print (predictions_AR_diff_cumsum.head())"
   ]
  },
  {
   "cell_type": "code",
   "execution_count": null,
   "metadata": {},
   "outputs": [],
   "source": [
    "predictions_AR_log= pd.Series(index=ts_log.index)\n",
    "predictions_AR_log = predictions_AR_log.add(predictions_AR_diff_cumsum,fill_value=0)\n",
    "predictions_AR_log.head()"
   ]
  },
  {
   "cell_type": "code",
   "execution_count": null,
   "metadata": {},
   "outputs": [],
   "source": [
    "predictions_AR = np.exp(predictions_AR_log)"
   ]
  },
  {
   "cell_type": "code",
   "execution_count": null,
   "metadata": {},
   "outputs": [],
   "source": [
    "plt.plot(predictions_AR, 'green')\n",
    "plt.plot(ts)"
   ]
  },
  {
   "cell_type": "code",
   "execution_count": null,
   "metadata": {},
   "outputs": [],
   "source": [
    "# autoregression model seems to mirror the behavior of the curve, suffice to say it is close enough."
   ]
  },
  {
   "cell_type": "code",
   "execution_count": 9,
   "metadata": {},
   "outputs": [
    {
     "name": "stdout",
     "output_type": "stream",
     "text": [
      "predicted=0.972135, expected=0.957825\n",
      "predicted=0.966548, expected=0.966917\n",
      "predicted=0.981168, expected=0.975910\n",
      "predicted=0.990264, expected=0.992058\n",
      "predicted=1.007011, expected=1.000000\n",
      "predicted=1.010965, expected=1.004000\n",
      "predicted=1.016354, expected=1.006595\n",
      "predicted=1.016249, expected=0.998499\n",
      "predicted=1.010456, expected=0.986738\n",
      "predicted=0.998112, expected=1.009463\n",
      "predicted=1.027295, expected=1.020392\n",
      "Test RMSE: 0.012\n"
     ]
    },
    {
     "data": {
      "image/png": "[encoded data removed]",
      "text/plain": [
       "<Figure size 1080x432 with 1 Axes>"
      ]
     },
     "metadata": {
      "needs_background": "light"
     },
     "output_type": "display_data"
    }
   ],
   "source": [
    "# create and evaluate an updated autoregressive model\n",
    "from pandas import read_csv\n",
    "from matplotlib import pyplot\n",
    "from statsmodels.tsa.ar_model import AutoReg\n",
    "from sklearn.metrics import mean_squared_error\n",
    "from math import sqrt\n",
    "# load dataset\n",
    "series = read_csv('./TFP5.csv', header=0, index_col=0, parse_dates=True, squeeze=True)\n",
    "# split dataset\n",
    "X = series.values\n",
    "train, test = X[1:len(X)-11], X[len(X)-11:]\n",
    "# train autoregression\n",
    "window = 10\n",
    "model = AutoReg(train, lags=10)\n",
    "model_fit = model.fit()\n",
    "coef = model_fit.params\n",
    "# walk forward over time steps in test\n",
    "history = train[len(train)-window:]\n",
    "history = [history[i] for i in range(len(history))]\n",
    "predictions = list()\n",
    "for t in range(len(test)):\n",
    "\tlength = len(history)\n",
    "\tlag = [history[i] for i in range(length-window,length)]\n",
    "\tyhat = coef[0]\n",
    "\tfor d in range(window):\n",
    "\t\tyhat += coef[d+1] * lag[window-d-1]\n",
    "\tobs = test[t]\n",
    "\tpredictions.append(yhat)\n",
    "\thistory.append(obs)\n",
    "\tprint('predicted=%f, expected=%f' % (yhat, obs))\n",
    "rmse = sqrt(mean_squared_error(test, predictions))\n",
    "print('Test RMSE: %.3f' % rmse)\n",
    "# plot\n",
    "pyplot.plot(test)\n",
    "pyplot.plot(predictions, label='prediction', color='red')\n",
    "plt.suptitle('AR model prediction for USA RTFPNA - 2001/2011')\n",
    "plt.xlabel('years')\n",
    "plt.ylabel('RTFPNA')\n",
    "plt.legend()\n",
    "pyplot.show()"
   ]
  },
  {
   "cell_type": "code",
   "execution_count": 10,
   "metadata": {},
   "outputs": [
    {
     "name": "stdout",
     "output_type": "stream",
     "text": [
      "predicted=1.066618, expected=1.050354\n",
      "predicted=1.036112, expected=1.039474\n",
      "predicted=1.037020, expected=1.016517\n",
      "predicted=1.010594, expected=1.008693\n",
      "predicted=1.007134, expected=1.000000\n",
      "predicted=0.998304, expected=0.995132\n",
      "predicted=0.996129, expected=0.981433\n",
      "predicted=0.978845, expected=0.958357\n",
      "predicted=0.963665, expected=0.926482\n",
      "predicted=0.927817, expected=0.932567\n",
      "predicted=0.955961, expected=0.929405\n",
      "Test RMSE: 0.054\n"
     ]
    },
    {
     "data": {
      "image/png": "[encoded data removed]",
      "text/plain": [
       "<Figure size 1080x432 with 1 Axes>"
      ]
     },
     "metadata": {
      "needs_background": "light"
     },
     "output_type": "display_data"
    }
   ],
   "source": [
    "# load dataset\n",
    "series = read_csv('./TFP6.csv', header=0, index_col=0, parse_dates=True, squeeze=True)\n",
    "# split dataset\n",
    "X = series.values\n",
    "train, test1 = X[1:len(X)-11], X[len(X)-11:]\n",
    "# train autoregression\n",
    "window = 10\n",
    "model = AutoReg(train, lags=10)\n",
    "model_fit = model.fit()\n",
    "coef = model_fit.params\n",
    "# walk forward over time steps in test\n",
    "history = train[len(train)-window:]\n",
    "history = [history[i] for i in range(len(history))]\n",
    "predictions1 = list()\n",
    "for t in range(len(test)):\n",
    "\tlength = len(history)\n",
    "\tlag = [history[i] for i in range(length-window,length)]\n",
    "\tyhat = coef[0]\n",
    "\tfor d in range(window):\n",
    "\t\tyhat += coef[d+1] * lag[window-d-1]\n",
    "\tobs = test1[t]\n",
    "\tpredictions1.append(yhat)\n",
    "\thistory.append(obs)\n",
    "\tprint('predicted=%f, expected=%f' % (yhat, obs))\n",
    "rmse = sqrt(mean_squared_error(test, predictions1))\n",
    "print('Test RMSE: %.3f' % rmse)\n",
    "# plot\n",
    "pyplot.plot(test1)\n",
    "pyplot.plot(predictions1, label='prediction', color='red')\n",
    "plt.suptitle('AR model prediction for CAN RTFPNA - 2001/2011')\n",
    "plt.xlabel('years')\n",
    "plt.ylabel('RTFPNA')\n",
    "plt.legend()\n",
    "pyplot.show()"
   ]
  },
  {
   "cell_type": "code",
   "execution_count": 11,
   "metadata": {},
   "outputs": [
    {
     "name": "stdout",
     "output_type": "stream",
     "text": [
      "predicted=1.065360, expected=1.036735\n",
      "predicted=1.041170, expected=1.005033\n",
      "predicted=1.004377, expected=0.991272\n",
      "predicted=0.994749, expected=0.994963\n",
      "predicted=1.012080, expected=1.000000\n",
      "predicted=1.030992, expected=1.011751\n",
      "predicted=1.024334, expected=1.013673\n",
      "predicted=1.030542, expected=0.991548\n",
      "predicted=1.002846, expected=0.915879\n",
      "predicted=0.912721, expected=0.941604\n",
      "predicted=0.960073, expected=0.955766\n",
      "Test RMSE: 0.034\n"
     ]
    },
    {
     "data": {
      "image/png": "[encoded data removed]",
      "text/plain": [
       "<Figure size 1080x432 with 1 Axes>"
      ]
     },
     "metadata": {
      "needs_background": "light"
     },
     "output_type": "display_data"
    }
   ],
   "source": [
    "# load dataset\n",
    "series = read_csv('./TFP7.csv', header=0, index_col=0, parse_dates=True, squeeze=True)\n",
    "# split dataset\n",
    "X = series.values\n",
    "train, test = X[1:len(X)-11], X[len(X)-11:]\n",
    "# train autoregression\n",
    "window = 10\n",
    "model = AutoReg(train, lags=10)\n",
    "model_fit = model.fit()\n",
    "coef = model_fit.params\n",
    "# walk forward over time steps in test\n",
    "history = train[len(train)-window:]\n",
    "history = [history[i] for i in range(len(history))]\n",
    "predictions2 = list()\n",
    "for t in range(len(test)):\n",
    "\tlength = len(history)\n",
    "\tlag = [history[i] for i in range(length-window,length)]\n",
    "\tyhat = coef[0]\n",
    "\tfor d in range(window):\n",
    "\t\tyhat += coef[d+1] * lag[window-d-1]\n",
    "\tobs = test[t]\n",
    "\tpredictions2.append(yhat)\n",
    "\thistory.append(obs)\n",
    "\tprint('predicted=%f, expected=%f' % (yhat, obs))\n",
    "rmse = sqrt(mean_squared_error(test, predictions2))\n",
    "print('Test RMSE: %.3f' % rmse)\n",
    "# plot\n",
    "pyplot.plot(test)\n",
    "pyplot.plot(predictions2, label='prediction', color='red')\n",
    "plt.suptitle('AR model prediction for MEX RTFPNA - 2001/2011')\n",
    "plt.xlabel('years')\n",
    "plt.ylabel('RTFPNA')\n",
    "plt.legend()\n",
    "pyplot.show()"
   ]
  },
  {
   "cell_type": "code",
   "execution_count": null,
   "metadata": {},
   "outputs": [],
   "source": [
    "plt.suptitle('AR model prediction for USA/CAN/MEX RTFPNA - 2001/2011')\n",
    "pyplot.plot(predictions,label='prediction USA', color='red')\n",
    "pyplot.plot(predictions1,label='prediction CAN', color='green')\n",
    "pyplot.plot(predictions2,label='prediction MEX', color='yellow')\n",
    "plt.legend()\n",
    "plt.xlabel('years')\n",
    "plt.ylabel('RTFPNA')"
   ]
  },
  {
   "cell_type": "code",
   "execution_count": null,
   "metadata": {},
   "outputs": [],
   "source": [
    "from IPython.display import Image\n",
    "Image('rtfpna.png')\n",
    "\n",
    "#Accordding to, Young Eun Kim and Norman V. Loayza (WorldBank May 2019), the RTFPNA holds the equation:\n"
   ]
  },
  {
   "cell_type": "code",
   "execution_count": null,
   "metadata": {},
   "outputs": [],
   "source": [
    "# Therefore having the data regarding: capital sotck, real GDP, EMP and other factors quoted above. \n",
    "# Would be interesting for creating better predictive models. \n",
    "# So considering the values predictated using the AR model, the forecast to 2021 are shown below. \n",
    "# *********************************************\n",
    "# The Values in blue are also predictions from the AR model trained, they do not represent the actual values given.\n",
    "# For the actual values check the graphs above. ******************************\n",
    "Image('MEX.jpg')"
   ]
  },
  {
   "cell_type": "code",
   "execution_count": null,
   "metadata": {},
   "outputs": [],
   "source": [
    "Image('CAN.jpg')"
   ]
  },
  {
   "cell_type": "code",
   "execution_count": null,
   "metadata": {},
   "outputs": [],
   "source": [
    "Image('USA.jpg')"
   ]
  },
  {
   "cell_type": "code",
   "execution_count": null,
   "metadata": {},
   "outputs": [],
   "source": [
    "## References:\n",
    "## Jason Brownlee, AutoRegression Model for timeseries \n",
    "## Jacob Stallone, Time_Series_ARIMA (*available on github)\n",
    "## Young Eun Kim Norman V. Loayza, Productivity Growth Patterns and Determinants across the World "
   ]
  }
 ],
 "metadata": {
  "kernelspec": {
   "display_name": "Python 3",
   "language": "python",
   "name": "python3"
  },
  "language_info": {
   "codemirror_mode": {
    "name": "ipython",
    "version": 3
   },
   "file_extension": ".py",
   "mimetype": "text/x-python",
   "name": "python",
   "nbconvert_exporter": "python",
   "pygments_lexer": "ipython3",
   "version": "3.8.3"
  }
 },
 "nbformat": 4,
 "nbformat_minor": 4
}
